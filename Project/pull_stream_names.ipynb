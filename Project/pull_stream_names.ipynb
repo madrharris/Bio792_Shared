{
 "cells": [
  {
   "cell_type": "markdown",
   "id": "fc5725c4",
   "metadata": {},
   "source": [
    "word barf"
   ]
  },
  {
   "cell_type": "markdown",
   "id": "8b34bef6",
   "metadata": {},
   "source": [
    "basically: run through this mess of an excel sheet: has *sitenumber, sitename, sitetype, lat/long, elevation(datum), dates, datatype, status,...*"
   ]
  },
  {
   "cell_type": "markdown",
   "id": "8ffe83b0",
   "metadata": {},
   "source": [
    "### steps\n",
    "1) run through excel sheet\n",
    "2) make new file/dataform\n",
    "    a) add empty columns for site number, lat, long, site_name?\n",
    "3) pull these columns into new file\n",
    "\n",
    "** access box through terminal: cd /Users/mine/Library/CloudStorage/Box-Box/"
   ]
  },
  {
   "cell_type": "code",
   "execution_count": 81,
   "id": "3f91dec1",
   "metadata": {},
   "outputs": [],
   "source": [
    "# import packages\n",
    "import os\n",
    "import numpy as np\n",
    "import pandas as pd"
   ]
  },
  {
   "cell_type": "code",
   "execution_count": 82,
   "id": "13b87233",
   "metadata": {},
   "outputs": [],
   "source": [
    "PATH = 'Users/mine/Library/CloudStorage/Box-Box/'"
   ]
  },
  {
   "cell_type": "code",
   "execution_count": 83,
   "id": "50c347a3",
   "metadata": {},
   "outputs": [
    {
     "name": "stdout",
     "output_type": "stream",
     "text": [
      "/Users/mine/Library/CloudStorage/Box-Box/Desert Dace/my_papers\n"
     ]
    }
   ],
   "source": [
    "cd /Users/mine/Library/CloudStorage/Box-Box/Desert Dace/my_papers"
   ]
  },
  {
   "cell_type": "code",
   "execution_count": 84,
   "id": "98573515",
   "metadata": {},
   "outputs": [
    {
     "name": "stdout",
     "output_type": "stream",
     "text": [
      "USGS_stream_gauges.csv         Working_ProposalAbstract.docx\r\n",
      "USGS_stream_gauges.xlsx\r\n"
     ]
    }
   ],
   "source": [
    "ls ## using USGS_stream_gauges.csv"
   ]
  },
  {
   "cell_type": "markdown",
   "id": "384d8b68",
   "metadata": {},
   "source": [
    "bloom_df = pd.read_csv('Bloom_etal_2018_Reduced_Dataset.csv')\n",
    "bloom_df.head()\n",
    "\n",
    "df1 = pd.read_csv('Bloom_etal_2018_Reduced_Dataset.csv', usecols=['logbodysize','trophic_position','Reg','taxa'])\n",
    "\n",
    "df2 = pd.DataFrame(bloom_df.taxa.str.split('_',1).tolist(),columns = ['genus','species']) # new dataframe for making the split\n",
    "\n",
    "split_bloom_df = pd.concat([df1, df2], axis=1, join='inner') # combining the two dataframes"
   ]
  },
  {
   "cell_type": "code",
   "execution_count": 85,
   "id": "e5be5b47",
   "metadata": {
    "scrolled": true
   },
   "outputs": [],
   "source": [
    "gauge_df = pd.read_csv('USGS_stream_gauges.csv')"
   ]
  },
  {
   "cell_type": "code",
   "execution_count": 86,
   "id": "35e2aa63",
   "metadata": {},
   "outputs": [],
   "source": [
    "#column_names = [\"Site_Number\",\"Latitude\",\"Longitude\"]\n",
    "#location_df = pd.DataFrame(columns = column_names)"
   ]
  },
  {
   "cell_type": "markdown",
   "id": "c9a59a5c",
   "metadata": {},
   "source": [
    "gaugesample_1 = pd.read_csv('Bloom_etal_2018_Reduced_Dataset.csv', usecols=['logbodysize','trophic_position','Reg','taxa'])\n",
    "\n",
    "df2 = pd.DataFrame(gauge_df.taxa.str.split('_',1).tolist(),columns = ['genus','species']) # new dataframe for making the split\n",
    "\n",
    "split_bloom_df = pd.concat([df1, df2], axis=1, join='inner') # combining the two dataframes"
   ]
  },
  {
   "cell_type": "code",
   "execution_count": 89,
   "id": "a335d2c3",
   "metadata": {},
   "outputs": [
    {
     "data": {
      "text/html": [
       "<div>\n",
       "<style scoped>\n",
       "    .dataframe tbody tr th:only-of-type {\n",
       "        vertical-align: middle;\n",
       "    }\n",
       "\n",
       "    .dataframe tbody tr th {\n",
       "        vertical-align: top;\n",
       "    }\n",
       "\n",
       "    .dataframe thead th {\n",
       "        text-align: right;\n",
       "    }\n",
       "</style>\n",
       "<table border=\"1\" class=\"dataframe\">\n",
       "  <thead>\n",
       "    <tr style=\"text-align: right;\">\n",
       "      <th></th>\n",
       "      <th>Site_Name</th>\n",
       "      <th>Site_Number</th>\n",
       "      <th>Latitute</th>\n",
       "      <th>Longitute</th>\n",
       "    </tr>\n",
       "  </thead>\n",
       "  <tbody>\n",
       "    <tr>\n",
       "      <th>0</th>\n",
       "      <td>026 N39 E24 01BB 1 Sp 3 Orfc A Mud Mdw Qd NW1</td>\n",
       "      <td>411919119122301</td>\n",
       "      <td>41°19'19\"</td>\n",
       "      <td>119°12'23\"</td>\n",
       "    </tr>\n",
       "    <tr>\n",
       "      <th>1</th>\n",
       "      <td>026 N39 E24 01BB 2 Sp 3 Orfc B Mud Mdw Qd NW1</td>\n",
       "      <td>411919119122302</td>\n",
       "      <td>41°19'19\"</td>\n",
       "      <td>119°12'23\"</td>\n",
       "    </tr>\n",
       "    <tr>\n",
       "      <th>2</th>\n",
       "      <td>026 N39 E24 01BB 3 Sp 3 Orfc E Mud Mdw Qd NW1</td>\n",
       "      <td>411919119122303</td>\n",
       "      <td>41°19'19\"</td>\n",
       "      <td>119°12'23\"</td>\n",
       "    </tr>\n",
       "    <tr>\n",
       "      <th>3</th>\n",
       "      <td>026 N39 E24 01BB 4 Sp 3 Orfc G Mud Mdw Qd NW1</td>\n",
       "      <td>411919119122304</td>\n",
       "      <td>41°19'19\"</td>\n",
       "      <td>119°12'23\"</td>\n",
       "    </tr>\n",
       "    <tr>\n",
       "      <th>4</th>\n",
       "      <td>026 N39 E24 01BB 5 Sp 3 Orfc H Mud Mdw Qd NW1</td>\n",
       "      <td>411919119122305</td>\n",
       "      <td>41°19'19\"</td>\n",
       "      <td>119°12'23\"</td>\n",
       "    </tr>\n",
       "  </tbody>\n",
       "</table>\n",
       "</div>"
      ],
      "text/plain": [
       "                                       Site_Name      Site_Number   Latitute  \\\n",
       "0  026 N39 E24 01BB 1 Sp 3 Orfc A Mud Mdw Qd NW1  411919119122301  41°19'19\"   \n",
       "1  026 N39 E24 01BB 2 Sp 3 Orfc B Mud Mdw Qd NW1  411919119122302  41°19'19\"   \n",
       "2  026 N39 E24 01BB 3 Sp 3 Orfc E Mud Mdw Qd NW1  411919119122303  41°19'19\"   \n",
       "3  026 N39 E24 01BB 4 Sp 3 Orfc G Mud Mdw Qd NW1  411919119122304  41°19'19\"   \n",
       "4  026 N39 E24 01BB 5 Sp 3 Orfc H Mud Mdw Qd NW1  411919119122305  41°19'19\"   \n",
       "\n",
       "    Longitute  \n",
       "0  119°12'23\"  \n",
       "1  119°12'23\"  \n",
       "2  119°12'23\"  \n",
       "3  119°12'23\"  \n",
       "4  119°12'23\"  "
      ]
     },
     "execution_count": 89,
     "metadata": {},
     "output_type": "execute_result"
    }
   ],
   "source": [
    "gauge_df2 = gauge_df[['Site_Name','Site_Number','Latitute','Longitute']].copy()\n",
    "gauge_df2.head()"
   ]
  },
  {
   "cell_type": "code",
   "execution_count": 92,
   "id": "f6bcd6c0",
   "metadata": {},
   "outputs": [],
   "source": [
    "pd.DataFrame.to_csv(gauge_df2, 'gaugeLocations.csv', sep=',', na_rep='.', index=False)"
   ]
  },
  {
   "cell_type": "code",
   "execution_count": 93,
   "id": "ac442d93",
   "metadata": {},
   "outputs": [
    {
     "name": "stdout",
     "output_type": "stream",
     "text": [
      "USGS_stream_gauges.csv         Working_ProposalAbstract.docx\r\n",
      "USGS_stream_gauges.xlsx        gaugeLocations.csv\r\n"
     ]
    }
   ],
   "source": [
    "ls"
   ]
  }
 ],
 "metadata": {
  "kernelspec": {
   "display_name": "Python 3",
   "language": "python",
   "name": "python3"
  },
  "language_info": {
   "codemirror_mode": {
    "name": "ipython",
    "version": 3
   },
   "file_extension": ".py",
   "mimetype": "text/x-python",
   "name": "python",
   "nbconvert_exporter": "python",
   "pygments_lexer": "ipython3",
   "version": "3.8.8"
  }
 },
 "nbformat": 4,
 "nbformat_minor": 5
}
