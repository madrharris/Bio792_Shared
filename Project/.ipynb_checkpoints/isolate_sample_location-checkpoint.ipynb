{
 "cells": [
  {
   "cell_type": "markdown",
   "id": "93ca096d",
   "metadata": {},
   "source": [
    "word barf. python script, take the sample location file, pull out sample lat longs & name/id. For use in arc"
   ]
  },
  {
   "cell_type": "code",
   "execution_count": 1,
   "id": "899d3a8b",
   "metadata": {},
   "outputs": [],
   "source": [
    "import os\n",
    "import numpy as np\n",
    "import pandas as pd"
   ]
  },
  {
   "cell_type": "code",
   "execution_count": 2,
   "id": "5430a05d",
   "metadata": {},
   "outputs": [
    {
     "name": "stdout",
     "output_type": "stream",
     "text": [
      "/Users/mine/Library/CloudStorage/Box-Box/Desert Dace/my_creations\n"
     ]
    }
   ],
   "source": [
    "cd /Users/mine/Library/CloudStorage/Box-Box/Desert Dace/my_creations"
   ]
  },
  {
   "cell_type": "code",
   "execution_count": 3,
   "id": "6000cd50",
   "metadata": {},
   "outputs": [
    {
     "name": "stdout",
     "output_type": "stream",
     "text": [
      "\u001b[34mClimate_data\u001b[m\u001b[m/                         \u001b[34mUSGS_pulled_data\u001b[m\u001b[m/\r\n",
      "\u001b[34mCoords\u001b[m\u001b[m/                               \u001b[34mbox_map\u001b[m\u001b[m/\r\n",
      "ERAC-2021-22-NoEstimatedV17-xlsx.csv  box_map_ERAC_2021-22_V12.xlsx\r\n",
      "ERAC_2021-22_NoEstimatedV16 (1).xlsx  desert_dace_sample_log_V3.xlsx\r\n",
      "\u001b[34mFieldNotes\u001b[m\u001b[m/                           \u001b[34mgenetic_stuff\u001b[m\u001b[m/\r\n",
      "\u001b[34mGoogleEarth_saves\u001b[m\u001b[m/                    \u001b[34mimages\u001b[m\u001b[m/\r\n",
      "README.gif                            metadata_creations.txt\r\n"
     ]
    }
   ],
   "source": [
    "ls"
   ]
  },
  {
   "cell_type": "code",
   "execution_count": 4,
   "id": "37c7ac57",
   "metadata": {},
   "outputs": [],
   "source": [
    "local1_df = pd.read_csv('ERAC-2021-22-NoEstimatedV17-xlsx.csv')"
   ]
  },
  {
   "cell_type": "code",
   "execution_count": 5,
   "id": "9127b156",
   "metadata": {},
   "outputs": [
    {
     "data": {
      "text/html": [
       "<div>\n",
       "<style scoped>\n",
       "    .dataframe tbody tr th:only-of-type {\n",
       "        vertical-align: middle;\n",
       "    }\n",
       "\n",
       "    .dataframe tbody tr th {\n",
       "        vertical-align: top;\n",
       "    }\n",
       "\n",
       "    .dataframe thead th {\n",
       "        text-align: right;\n",
       "    }\n",
       "</style>\n",
       "<table border=\"1\" class=\"dataframe\">\n",
       "  <thead>\n",
       "    <tr style=\"text-align: right;\">\n",
       "      <th></th>\n",
       "      <th>sample_number</th>\n",
       "      <th>sample_ID</th>\n",
       "      <th>site_number</th>\n",
       "      <th>sub_site</th>\n",
       "      <th>latitude</th>\n",
       "      <th>longitude</th>\n",
       "      <th>UTM_E_standard</th>\n",
       "      <th>UTM_N_standard</th>\n",
       "      <th>Zone</th>\n",
       "      <th>box_n</th>\n",
       "      <th>box_row</th>\n",
       "      <th>box_col</th>\n",
       "      <th>box_local</th>\n",
       "      <th>Column 14</th>\n",
       "      <th>Column 15</th>\n",
       "      <th>Column 16</th>\n",
       "      <th>Column 17</th>\n",
       "    </tr>\n",
       "  </thead>\n",
       "  <tbody>\n",
       "    <tr>\n",
       "      <th>0</th>\n",
       "      <td>1.0</td>\n",
       "      <td>ERAC001</td>\n",
       "      <td>3.0</td>\n",
       "      <td>2.0</td>\n",
       "      <td>41.338161</td>\n",
       "      <td>-119.16865</td>\n",
       "      <td>318543.0</td>\n",
       "      <td>4578566.0</td>\n",
       "      <td>11.0</td>\n",
       "      <td>1.0</td>\n",
       "      <td>A</td>\n",
       "      <td>1.0</td>\n",
       "      <td>A1</td>\n",
       "      <td>NaN</td>\n",
       "      <td>NaN</td>\n",
       "      <td>NaN</td>\n",
       "      <td>NaN</td>\n",
       "    </tr>\n",
       "    <tr>\n",
       "      <th>1</th>\n",
       "      <td>2.0</td>\n",
       "      <td>ERAC002</td>\n",
       "      <td>3.0</td>\n",
       "      <td>2.0</td>\n",
       "      <td>41.338161</td>\n",
       "      <td>-119.16865</td>\n",
       "      <td>318543.0</td>\n",
       "      <td>4578566.0</td>\n",
       "      <td>11.0</td>\n",
       "      <td>1.0</td>\n",
       "      <td>B</td>\n",
       "      <td>1.0</td>\n",
       "      <td>B1</td>\n",
       "      <td>NaN</td>\n",
       "      <td>NaN</td>\n",
       "      <td>NaN</td>\n",
       "      <td>NaN</td>\n",
       "    </tr>\n",
       "    <tr>\n",
       "      <th>2</th>\n",
       "      <td>3.0</td>\n",
       "      <td>ERAC003</td>\n",
       "      <td>3.0</td>\n",
       "      <td>2.0</td>\n",
       "      <td>41.338161</td>\n",
       "      <td>-119.16865</td>\n",
       "      <td>318543.0</td>\n",
       "      <td>4578566.0</td>\n",
       "      <td>11.0</td>\n",
       "      <td>1.0</td>\n",
       "      <td>C</td>\n",
       "      <td>1.0</td>\n",
       "      <td>C1</td>\n",
       "      <td>NaN</td>\n",
       "      <td>NaN</td>\n",
       "      <td>NaN</td>\n",
       "      <td>NaN</td>\n",
       "    </tr>\n",
       "    <tr>\n",
       "      <th>3</th>\n",
       "      <td>4.0</td>\n",
       "      <td>ERAC004</td>\n",
       "      <td>3.0</td>\n",
       "      <td>2.0</td>\n",
       "      <td>41.338161</td>\n",
       "      <td>-119.16865</td>\n",
       "      <td>318543.0</td>\n",
       "      <td>4578566.0</td>\n",
       "      <td>11.0</td>\n",
       "      <td>1.0</td>\n",
       "      <td>D</td>\n",
       "      <td>1.0</td>\n",
       "      <td>D1</td>\n",
       "      <td>NaN</td>\n",
       "      <td>NaN</td>\n",
       "      <td>NaN</td>\n",
       "      <td>NaN</td>\n",
       "    </tr>\n",
       "    <tr>\n",
       "      <th>4</th>\n",
       "      <td>5.0</td>\n",
       "      <td>ERAC005</td>\n",
       "      <td>3.0</td>\n",
       "      <td>2.0</td>\n",
       "      <td>41.338161</td>\n",
       "      <td>-119.16865</td>\n",
       "      <td>318543.0</td>\n",
       "      <td>4578566.0</td>\n",
       "      <td>11.0</td>\n",
       "      <td>1.0</td>\n",
       "      <td>E</td>\n",
       "      <td>1.0</td>\n",
       "      <td>E1</td>\n",
       "      <td>NaN</td>\n",
       "      <td>NaN</td>\n",
       "      <td>NaN</td>\n",
       "      <td>NaN</td>\n",
       "    </tr>\n",
       "  </tbody>\n",
       "</table>\n",
       "</div>"
      ],
      "text/plain": [
       "   sample_number sample_ID site_number  sub_site   latitude  longitude  \\\n",
       "0            1.0   ERAC001         3.0       2.0  41.338161 -119.16865   \n",
       "1            2.0   ERAC002         3.0       2.0  41.338161 -119.16865   \n",
       "2            3.0   ERAC003         3.0       2.0  41.338161 -119.16865   \n",
       "3            4.0   ERAC004         3.0       2.0  41.338161 -119.16865   \n",
       "4            5.0   ERAC005         3.0       2.0  41.338161 -119.16865   \n",
       "\n",
       "   UTM_E_standard  UTM_N_standard  Zone  box_n box_row  box_col box_local  \\\n",
       "0        318543.0       4578566.0  11.0    1.0       A      1.0        A1   \n",
       "1        318543.0       4578566.0  11.0    1.0       B      1.0        B1   \n",
       "2        318543.0       4578566.0  11.0    1.0       C      1.0        C1   \n",
       "3        318543.0       4578566.0  11.0    1.0       D      1.0        D1   \n",
       "4        318543.0       4578566.0  11.0    1.0       E      1.0        E1   \n",
       "\n",
       "   Column 14  Column 15  Column 16  Column 17  \n",
       "0        NaN        NaN        NaN        NaN  \n",
       "1        NaN        NaN        NaN        NaN  \n",
       "2        NaN        NaN        NaN        NaN  \n",
       "3        NaN        NaN        NaN        NaN  \n",
       "4        NaN        NaN        NaN        NaN  "
      ]
     },
     "execution_count": 5,
     "metadata": {},
     "output_type": "execute_result"
    }
   ],
   "source": [
    "local1_df.head()"
   ]
  },
  {
   "cell_type": "code",
   "execution_count": 7,
   "id": "0202453a",
   "metadata": {},
   "outputs": [],
   "source": [
    "local2_df = local1_df[['sample_ID','site_number','latitude','longitude']].copy()"
   ]
  },
  {
   "cell_type": "code",
   "execution_count": 8,
   "id": "801b127e",
   "metadata": {},
   "outputs": [],
   "source": [
    "pd.DataFrame.to_csv(local2_df, 'DDlocations_ARC.csv', sep=',', na_rep='.', index=False)"
   ]
  },
  {
   "cell_type": "code",
   "execution_count": null,
   "id": "e258f22d",
   "metadata": {},
   "outputs": [],
   "source": []
  }
 ],
 "metadata": {
  "kernelspec": {
   "display_name": "Python 3",
   "language": "python",
   "name": "python3"
  },
  "language_info": {
   "codemirror_mode": {
    "name": "ipython",
    "version": 3
   },
   "file_extension": ".py",
   "mimetype": "text/x-python",
   "name": "python",
   "nbconvert_exporter": "python",
   "pygments_lexer": "ipython3",
   "version": "3.8.8"
  }
 },
 "nbformat": 4,
 "nbformat_minor": 5
}
