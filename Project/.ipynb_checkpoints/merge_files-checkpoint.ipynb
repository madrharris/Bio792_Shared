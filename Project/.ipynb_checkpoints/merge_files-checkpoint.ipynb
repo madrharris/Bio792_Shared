{
 "cells": [
  {
   "cell_type": "markdown",
   "id": "a35b2e9c",
   "metadata": {},
   "source": [
    "code to merge files with lat_long data, downloaded from google earth"
   ]
  },
  {
   "cell_type": "code",
   "execution_count": 104,
   "id": "c9d6d5b4",
   "metadata": {},
   "outputs": [],
   "source": [
    "import os\n",
    "import pandas as pd\n",
    "import numpy as np"
   ]
  },
  {
   "cell_type": "code",
   "execution_count": 18,
   "id": "55ae06d0",
   "metadata": {},
   "outputs": [
    {
     "name": "stdout",
     "output_type": "stream",
     "text": [
      "/Users/mine/Library/CloudStorage/Box-Box/Desert Dace/my_creations/Sample_locations_csv\n"
     ]
    }
   ],
   "source": [
    "cd /Users/mine/Library/CloudStorage/Box-Box/Desert Dace/my_creations/Sample_locations_csv"
   ]
  },
  {
   "cell_type": "code",
   "execution_count": 122,
   "id": "48361bdf",
   "metadata": {},
   "outputs": [],
   "source": [
    "area1_df = pd.read_csv('Area1_samples.csv')#\n",
    "area2_df = pd.read_csv('Area2_samples.csv')\n",
    "area3_df = pd.read_csv('Area3_samples.csv')\n",
    "area4_df = pd.read_csv('Area4_samples.csv')\n",
    "area5_df = pd.read_csv('Area5_samples.csv')\n",
    "area6_df = pd.read_csv('Area6_samples.csv')#\n",
    "area7_df = pd.read_csv('Area7_samples.csv')#\n",
    "area8_df = pd.read_csv('Area8_samples.csv')#\n",
    "area9_df = pd.read_csv('Area9_samples.csv')\n",
    "flycanyon_df = pd.read_csv('FlyCanyon_samples.csv')"
   ]
  },
  {
   "cell_type": "code",
   "execution_count": 123,
   "id": "edb468ac",
   "metadata": {},
   "outputs": [
    {
     "data": {
      "text/html": [
       "<div>\n",
       "<style scoped>\n",
       "    .dataframe tbody tr th:only-of-type {\n",
       "        vertical-align: middle;\n",
       "    }\n",
       "\n",
       "    .dataframe tbody tr th {\n",
       "        vertical-align: top;\n",
       "    }\n",
       "\n",
       "    .dataframe thead th {\n",
       "        text-align: right;\n",
       "    }\n",
       "</style>\n",
       "<table border=\"1\" class=\"dataframe\">\n",
       "  <thead>\n",
       "    <tr style=\"text-align: right;\">\n",
       "      <th></th>\n",
       "      <th>X</th>\n",
       "      <th>Y</th>\n",
       "      <th>Name</th>\n",
       "      <th>description</th>\n",
       "      <th>icon</th>\n",
       "    </tr>\n",
       "  </thead>\n",
       "  <tbody>\n",
       "    <tr>\n",
       "      <th>0</th>\n",
       "      <td>-119.190384</td>\n",
       "      <td>41.337695</td>\n",
       "      <td>ERAC148-157</td>\n",
       "      <td>Area #5</td>\n",
       "      <td>185</td>\n",
       "    </tr>\n",
       "    <tr>\n",
       "      <th>1</th>\n",
       "      <td>-119.191003</td>\n",
       "      <td>41.335125</td>\n",
       "      <td>ERAC158-162</td>\n",
       "      <td>Area #5</td>\n",
       "      <td>185</td>\n",
       "    </tr>\n",
       "    <tr>\n",
       "      <th>2</th>\n",
       "      <td>-119.190922</td>\n",
       "      <td>41.334145</td>\n",
       "      <td>ERAC163-168</td>\n",
       "      <td>Area #5</td>\n",
       "      <td>185</td>\n",
       "    </tr>\n",
       "    <tr>\n",
       "      <th>3</th>\n",
       "      <td>-119.190853</td>\n",
       "      <td>41.338154</td>\n",
       "      <td>ERAC169-177</td>\n",
       "      <td>Area #5</td>\n",
       "      <td>185</td>\n",
       "    </tr>\n",
       "  </tbody>\n",
       "</table>\n",
       "</div>"
      ],
      "text/plain": [
       "            X          Y         Name description  icon\n",
       "0 -119.190384  41.337695  ERAC148-157     Area #5   185\n",
       "1 -119.191003  41.335125  ERAC158-162     Area #5   185\n",
       "2 -119.190922  41.334145  ERAC163-168     Area #5   185\n",
       "3 -119.190853  41.338154  ERAC169-177     Area #5   185"
      ]
     },
     "execution_count": 123,
     "metadata": {},
     "output_type": "execute_result"
    }
   ],
   "source": [
    "area5_df.head()\n",
    "#for files in os.listdir(PATH):"
   ]
  },
  {
   "cell_type": "code",
   "execution_count": 124,
   "id": "967a90e9",
   "metadata": {},
   "outputs": [],
   "source": [
    "area1_df = area1_df.drop(columns=['gid','timestamp','begin','end','altitudeMode','tessellate','extrude','visibility','drawOrder'])\n",
    "area6_df = area6_df.drop(columns=['gid','timestamp','begin','end','altitudeMode','tessellate','extrude','visibility','drawOrder'])\n",
    "area7_df = area7_df.drop(columns=['gid','timestamp','begin','end','altitudeMode','tessellate','extrude','visibility','drawOrder'])\n",
    "area8_df = area8_df.drop(columns=['gid','timestamp','begin','end','altitudeMode','tessellate','extrude','visibility','drawOrder'])"
   ]
  },
  {
   "cell_type": "code",
   "execution_count": 129,
   "id": "3cf8ea73",
   "metadata": {},
   "outputs": [
    {
     "data": {
      "text/html": [
       "<div>\n",
       "<style scoped>\n",
       "    .dataframe tbody tr th:only-of-type {\n",
       "        vertical-align: middle;\n",
       "    }\n",
       "\n",
       "    .dataframe tbody tr th {\n",
       "        vertical-align: top;\n",
       "    }\n",
       "\n",
       "    .dataframe thead th {\n",
       "        text-align: right;\n",
       "    }\n",
       "</style>\n",
       "<table border=\"1\" class=\"dataframe\">\n",
       "  <thead>\n",
       "    <tr style=\"text-align: right;\">\n",
       "      <th></th>\n",
       "      <th>X</th>\n",
       "      <th>Y</th>\n",
       "      <th>Name</th>\n",
       "      <th>description</th>\n",
       "      <th>icon</th>\n",
       "    </tr>\n",
       "  </thead>\n",
       "  <tbody>\n",
       "    <tr>\n",
       "      <th>0</th>\n",
       "      <td>-119.184413</td>\n",
       "      <td>41.376051</td>\n",
       "      <td>ERAC087</td>\n",
       "      <td>AREA #2</td>\n",
       "      <td>185</td>\n",
       "    </tr>\n",
       "    <tr>\n",
       "      <th>1</th>\n",
       "      <td>-119.184479</td>\n",
       "      <td>41.376248</td>\n",
       "      <td>ERAC088</td>\n",
       "      <td>AREA #2</td>\n",
       "      <td>185</td>\n",
       "    </tr>\n",
       "    <tr>\n",
       "      <th>2</th>\n",
       "      <td>-119.184413</td>\n",
       "      <td>41.376051</td>\n",
       "      <td>ERAC089</td>\n",
       "      <td>AREA #2</td>\n",
       "      <td>185</td>\n",
       "    </tr>\n",
       "    <tr>\n",
       "      <th>3</th>\n",
       "      <td>-119.184479</td>\n",
       "      <td>41.376248</td>\n",
       "      <td>ERAC091</td>\n",
       "      <td>AREA #2</td>\n",
       "      <td>185</td>\n",
       "    </tr>\n",
       "    <tr>\n",
       "      <th>4</th>\n",
       "      <td>-119.184479</td>\n",
       "      <td>41.376248</td>\n",
       "      <td>ERAC092</td>\n",
       "      <td>AREA #2</td>\n",
       "      <td>185</td>\n",
       "    </tr>\n",
       "    <tr>\n",
       "      <th>...</th>\n",
       "      <td>...</td>\n",
       "      <td>...</td>\n",
       "      <td>...</td>\n",
       "      <td>...</td>\n",
       "      <td>...</td>\n",
       "    </tr>\n",
       "    <tr>\n",
       "      <th>5</th>\n",
       "      <td>-119.222864</td>\n",
       "      <td>41.334154</td>\n",
       "      <td>ERAC126</td>\n",
       "      <td>FLYCYN</td>\n",
       "      <td>185</td>\n",
       "    </tr>\n",
       "    <tr>\n",
       "      <th>6</th>\n",
       "      <td>-119.222684</td>\n",
       "      <td>41.334121</td>\n",
       "      <td>ERAC127-128</td>\n",
       "      <td>FLYCYN</td>\n",
       "      <td>185</td>\n",
       "    </tr>\n",
       "    <tr>\n",
       "      <th>7</th>\n",
       "      <td>-119.221391</td>\n",
       "      <td>41.285500</td>\n",
       "      <td>ERAC133</td>\n",
       "      <td>FLYCYN</td>\n",
       "      <td>185</td>\n",
       "    </tr>\n",
       "    <tr>\n",
       "      <th>8</th>\n",
       "      <td>-119.222684</td>\n",
       "      <td>41.334121</td>\n",
       "      <td>ERAC134-142</td>\n",
       "      <td>FLYCYN</td>\n",
       "      <td>185</td>\n",
       "    </tr>\n",
       "    <tr>\n",
       "      <th>9</th>\n",
       "      <td>-119.222973</td>\n",
       "      <td>41.334178</td>\n",
       "      <td>ERAC143-147</td>\n",
       "      <td>FLYCYN</td>\n",
       "      <td>185</td>\n",
       "    </tr>\n",
       "  </tbody>\n",
       "</table>\n",
       "<p>61 rows × 5 columns</p>\n",
       "</div>"
      ],
      "text/plain": [
       "             X          Y         Name description icon\n",
       "0  -119.184413  41.376051      ERAC087     AREA #2  185\n",
       "1  -119.184479  41.376248      ERAC088     AREA #2  185\n",
       "2  -119.184413  41.376051      ERAC089     AREA #2  185\n",
       "3  -119.184479  41.376248      ERAC091     AREA #2  185\n",
       "4  -119.184479  41.376248      ERAC092     AREA #2  185\n",
       "..         ...        ...          ...         ...  ...\n",
       "5  -119.222864  41.334154      ERAC126      FLYCYN  185\n",
       "6  -119.222684  41.334121  ERAC127-128      FLYCYN  185\n",
       "7  -119.221391  41.285500      ERAC133      FLYCYN  185\n",
       "8  -119.222684  41.334121  ERAC134-142      FLYCYN  185\n",
       "9  -119.222973  41.334178  ERAC143-147      FLYCYN  185\n",
       "\n",
       "[61 rows x 5 columns]"
      ]
     },
     "metadata": {},
     "output_type": "display_data"
    }
   ],
   "source": [
    "all_locations = pd.DataFrame().append([area1_df, area2_df, area3_df, area4_df, area5_df, area6_df, area7_df, area8_df, area9_df, flycanyon_df])\n",
    "display(all_locations)"
   ]
  },
  {
   "cell_type": "code",
   "execution_count": 137,
   "id": "ed47c087",
   "metadata": {},
   "outputs": [],
   "source": [
    "pd.DataFrame.to_csv(all_locations, 'all_locations.csv', sep=',', na_rep='.', index=False)"
   ]
  },
  {
   "cell_type": "code",
   "execution_count": 139,
   "id": "e81c0591",
   "metadata": {},
   "outputs": [
    {
     "name": "stdout",
     "output_type": "stream",
     "text": [
      "/Users/mine/Library/CloudStorage/Box-Box/Desert Dace/my_creations\n"
     ]
    }
   ],
   "source": [
    "cd /Users/mine/Library/CloudStorage/Box-Box/Desert Dace/my_creations/"
   ]
  },
  {
   "cell_type": "code",
   "execution_count": null,
   "id": "d564ed17",
   "metadata": {},
   "outputs": [],
   "source": []
  }
 ],
 "metadata": {
  "kernelspec": {
   "display_name": "Python 3",
   "language": "python",
   "name": "python3"
  },
  "language_info": {
   "codemirror_mode": {
    "name": "ipython",
    "version": 3
   },
   "file_extension": ".py",
   "mimetype": "text/x-python",
   "name": "python",
   "nbconvert_exporter": "python",
   "pygments_lexer": "ipython3",
   "version": "3.8.8"
  }
 },
 "nbformat": 4,
 "nbformat_minor": 5
}
