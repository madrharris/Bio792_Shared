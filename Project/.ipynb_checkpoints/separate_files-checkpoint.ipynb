{
 "cells": [
  {
   "cell_type": "code",
   "execution_count": 30,
   "id": "46a01310",
   "metadata": {},
   "outputs": [],
   "source": [
    "import os\n",
    "import glob\n",
    "import pandas as pd"
   ]
  },
  {
   "cell_type": "code",
   "execution_count": 147,
   "id": "a120bbce",
   "metadata": {},
   "outputs": [
    {
     "name": "stdout",
     "output_type": "stream",
     "text": [
      "/Users/mine/Library/CloudStorage/Box-Box/Desert Dace/my_creations\n"
     ]
    }
   ],
   "source": [
    "cd /Users/mine/Library/CloudStorage/Box-Box/Desert Dace/my_creations/"
   ]
  },
  {
   "cell_type": "code",
   "execution_count": 66,
   "id": "219c0598",
   "metadata": {},
   "outputs": [],
   "source": [
    "act_split = pd.read_csv(\"box_map_2021-22_v18.csv\", usecols=['sample_ID','site_number','sub_site','estimated_lat','estimated_long','latitude','longitude'])"
   ]
  },
  {
   "cell_type": "code",
   "execution_count": 113,
   "id": "0c607d11",
   "metadata": {},
   "outputs": [
    {
     "data": {
      "text/html": [
       "<div>\n",
       "<style scoped>\n",
       "    .dataframe tbody tr th:only-of-type {\n",
       "        vertical-align: middle;\n",
       "    }\n",
       "\n",
       "    .dataframe tbody tr th {\n",
       "        vertical-align: top;\n",
       "    }\n",
       "\n",
       "    .dataframe thead th {\n",
       "        text-align: right;\n",
       "    }\n",
       "</style>\n",
       "<table border=\"1\" class=\"dataframe\">\n",
       "  <thead>\n",
       "    <tr style=\"text-align: right;\">\n",
       "      <th></th>\n",
       "      <th>sample_ID</th>\n",
       "      <th>site_number</th>\n",
       "      <th>sub_site</th>\n",
       "      <th>estimated_lat</th>\n",
       "      <th>estimated_long</th>\n",
       "      <th>latitude</th>\n",
       "      <th>longitude</th>\n",
       "    </tr>\n",
       "  </thead>\n",
       "  <tbody>\n",
       "    <tr>\n",
       "      <th>0</th>\n",
       "      <td>ERAC178</td>\n",
       "      <td>1</td>\n",
       "      <td>1</td>\n",
       "      <td>41.397972</td>\n",
       "      <td>-119.165569</td>\n",
       "      <td>NaN</td>\n",
       "      <td>NaN</td>\n",
       "    </tr>\n",
       "    <tr>\n",
       "      <th>1</th>\n",
       "      <td>ERAC179</td>\n",
       "      <td>1</td>\n",
       "      <td>1</td>\n",
       "      <td>41.397972</td>\n",
       "      <td>-119.165569</td>\n",
       "      <td>NaN</td>\n",
       "      <td>NaN</td>\n",
       "    </tr>\n",
       "    <tr>\n",
       "      <th>2</th>\n",
       "      <td>ERAC180</td>\n",
       "      <td>1</td>\n",
       "      <td>1</td>\n",
       "      <td>41.397972</td>\n",
       "      <td>-119.165569</td>\n",
       "      <td>NaN</td>\n",
       "      <td>NaN</td>\n",
       "    </tr>\n",
       "    <tr>\n",
       "      <th>3</th>\n",
       "      <td>ERAC181</td>\n",
       "      <td>1</td>\n",
       "      <td>1</td>\n",
       "      <td>41.397972</td>\n",
       "      <td>-119.165569</td>\n",
       "      <td>NaN</td>\n",
       "      <td>NaN</td>\n",
       "    </tr>\n",
       "    <tr>\n",
       "      <th>4</th>\n",
       "      <td>ERAC182</td>\n",
       "      <td>1</td>\n",
       "      <td>1</td>\n",
       "      <td>41.397972</td>\n",
       "      <td>-119.165569</td>\n",
       "      <td>NaN</td>\n",
       "      <td>NaN</td>\n",
       "    </tr>\n",
       "  </tbody>\n",
       "</table>\n",
       "</div>"
      ],
      "text/plain": [
       "  sample_ID  site_number  sub_site  estimated_lat  estimated_long  latitude  \\\n",
       "0   ERAC178            1         1      41.397972     -119.165569       NaN   \n",
       "1   ERAC179            1         1      41.397972     -119.165569       NaN   \n",
       "2   ERAC180            1         1      41.397972     -119.165569       NaN   \n",
       "3   ERAC181            1         1      41.397972     -119.165569       NaN   \n",
       "4   ERAC182            1         1      41.397972     -119.165569       NaN   \n",
       "\n",
       "   longitude  \n",
       "0        NaN  \n",
       "1        NaN  \n",
       "2        NaN  \n",
       "3        NaN  \n",
       "4        NaN  "
      ]
     },
     "execution_count": 113,
     "metadata": {},
     "output_type": "execute_result"
    }
   ],
   "source": [
    "act_split.head()"
   ]
  },
  {
   "cell_type": "code",
   "execution_count": 68,
   "id": "5b1ba3a6",
   "metadata": {},
   "outputs": [
    {
     "data": {
      "text/plain": [
       "array([ 1,  2,  3,  4,  5,  7,  8,  9, 11])"
      ]
     },
     "execution_count": 68,
     "metadata": {},
     "output_type": "execute_result"
    }
   ],
   "source": [
    "act_split['site_number'].unique()"
   ]
  },
  {
   "cell_type": "code",
   "execution_count": 69,
   "id": "fd963834",
   "metadata": {},
   "outputs": [
    {
     "data": {
      "text/plain": [
       "sample_ID          object\n",
       "site_number         int64\n",
       "sub_site            int64\n",
       "estimated_lat     float64\n",
       "estimated_long    float64\n",
       "latitude          float64\n",
       "longitude         float64\n",
       "dtype: object"
      ]
     },
     "execution_count": 69,
     "metadata": {},
     "output_type": "execute_result"
    }
   ],
   "source": [
    "act_split.dtypes"
   ]
  },
  {
   "cell_type": "code",
   "execution_count": 52,
   "id": "a89447e8",
   "metadata": {},
   "outputs": [],
   "source": []
  },
  {
   "cell_type": "code",
   "execution_count": 80,
   "id": "b1cb3135",
   "metadata": {},
   "outputs": [],
   "source": [
    "site_1 = act_split[act_split['site_number']==1]\n",
    "site_2 = act_split[act_split['site_number']==2]\n",
    "site_3 = act_split[act_split['site_number']==3]\n",
    "site_4 = act_split[act_split['site_number']==4]\n",
    "site_5 = act_split[act_split['site_number']==5]\n",
    "site_7 = act_split[act_split['site_number']==7]\n",
    "site_8 = act_split[act_split['site_number']==8]\n",
    "site_9 = act_split[act_split['site_number']==9]\n",
    "site_11 = act_split[act_split['site_number']==11]"
   ]
  },
  {
   "cell_type": "code",
   "execution_count": 195,
   "id": "d837a836",
   "metadata": {},
   "outputs": [
    {
     "data": {
      "text/html": [
       "<div>\n",
       "<style scoped>\n",
       "    .dataframe tbody tr th:only-of-type {\n",
       "        vertical-align: middle;\n",
       "    }\n",
       "\n",
       "    .dataframe tbody tr th {\n",
       "        vertical-align: top;\n",
       "    }\n",
       "\n",
       "    .dataframe thead th {\n",
       "        text-align: right;\n",
       "    }\n",
       "</style>\n",
       "<table border=\"1\" class=\"dataframe\">\n",
       "  <thead>\n",
       "    <tr style=\"text-align: right;\">\n",
       "      <th></th>\n",
       "      <th>sample_ID</th>\n",
       "      <th>site_number</th>\n",
       "      <th>sub_site</th>\n",
       "      <th>estimated_lat</th>\n",
       "      <th>estimated_long</th>\n",
       "      <th>latitude</th>\n",
       "      <th>longitude</th>\n",
       "    </tr>\n",
       "  </thead>\n",
       "  <tbody>\n",
       "    <tr>\n",
       "      <th>39</th>\n",
       "      <td>ERAC087</td>\n",
       "      <td>2</td>\n",
       "      <td>1</td>\n",
       "      <td>NaN</td>\n",
       "      <td>NaN</td>\n",
       "      <td>41.376051</td>\n",
       "      <td>-119.184413</td>\n",
       "    </tr>\n",
       "    <tr>\n",
       "      <th>40</th>\n",
       "      <td>ERAC088</td>\n",
       "      <td>2</td>\n",
       "      <td>2</td>\n",
       "      <td>NaN</td>\n",
       "      <td>NaN</td>\n",
       "      <td>41.376248</td>\n",
       "      <td>-119.184479</td>\n",
       "    </tr>\n",
       "    <tr>\n",
       "      <th>41</th>\n",
       "      <td>ERAC089</td>\n",
       "      <td>2</td>\n",
       "      <td>1</td>\n",
       "      <td>NaN</td>\n",
       "      <td>NaN</td>\n",
       "      <td>41.376051</td>\n",
       "      <td>-119.184413</td>\n",
       "    </tr>\n",
       "    <tr>\n",
       "      <th>42</th>\n",
       "      <td>ERAC090</td>\n",
       "      <td>2</td>\n",
       "      <td>1</td>\n",
       "      <td>NaN</td>\n",
       "      <td>NaN</td>\n",
       "      <td>41.376051</td>\n",
       "      <td>-119.184413</td>\n",
       "    </tr>\n",
       "    <tr>\n",
       "      <th>43</th>\n",
       "      <td>ERAC091</td>\n",
       "      <td>2</td>\n",
       "      <td>2</td>\n",
       "      <td>NaN</td>\n",
       "      <td>NaN</td>\n",
       "      <td>41.376248</td>\n",
       "      <td>-119.184479</td>\n",
       "    </tr>\n",
       "  </tbody>\n",
       "</table>\n",
       "</div>"
      ],
      "text/plain": [
       "   sample_ID  site_number  sub_site  estimated_lat  estimated_long   latitude  \\\n",
       "39   ERAC087            2         1            NaN             NaN  41.376051   \n",
       "40   ERAC088            2         2            NaN             NaN  41.376248   \n",
       "41   ERAC089            2         1            NaN             NaN  41.376051   \n",
       "42   ERAC090            2         1            NaN             NaN  41.376051   \n",
       "43   ERAC091            2         2            NaN             NaN  41.376248   \n",
       "\n",
       "     longitude  \n",
       "39 -119.184413  \n",
       "40 -119.184479  \n",
       "41 -119.184413  \n",
       "42 -119.184413  \n",
       "43 -119.184479  "
      ]
     },
     "execution_count": 195,
     "metadata": {},
     "output_type": "execute_result"
    }
   ],
   "source": [
    "site_2.head()"
   ]
  },
  {
   "cell_type": "code",
   "execution_count": 100,
   "id": "963f70e2",
   "metadata": {},
   "outputs": [],
   "source": [
    "est_site_11 = site_11[site_11['estimated_lat'].notnull()].drop([\"latitude\",\"longitude\"], axis=1)\n",
    "est_site_8 = site_8[site_8['estimated_lat'].notnull()].drop([\"latitude\",\"longitude\"], axis=1)\n",
    "est_site_4 = site_4[site_4['estimated_lat'].notnull()].drop([\"latitude\",\"longitude\"], axis=1)\n",
    "est_site_2 = site_2[site_2['estimated_lat'].notnull()].drop([\"latitude\",\"longitude\"], axis=1)\n",
    "est_site_1 = site_1[site_1['estimated_lat'].notnull()].drop([\"latitude\",\"longitude\"], axis=1)"
   ]
  },
  {
   "cell_type": "code",
   "execution_count": 137,
   "id": "807fd446",
   "metadata": {},
   "outputs": [],
   "source": [
    "act_site_2 = site_2[site_2['latitude'].notnull()].drop([\"estimated_lat\",\"estimated_long\"], axis=1).sort_values('sub_site')\n",
    "act_site_3 = site_3[site_3['latitude'].notnull()].drop([\"estimated_lat\",\"estimated_long\"], axis=1).sort_values('sub_site')\n",
    "act_site_4 = site_4[site_4['latitude'].notnull()].drop([\"estimated_lat\",\"estimated_long\"], axis=1).sort_values('sub_site')\n",
    "act_site_5 = site_5[site_5['latitude'].notnull()].drop([\"estimated_lat\",\"estimated_long\"], axis=1).sort_values('sub_site')\n",
    "act_site_7 = site_7[site_7['latitude'].notnull()].drop([\"estimated_lat\",\"estimated_long\"], axis=1).sort_values('sub_site')\n",
    "act_site_9 = site_9[site_9['latitude'].notnull()].drop([\"estimated_lat\",\"estimated_long\"], axis=1).sort_values('sub_site')\n",
    "act_site_11 = site_11[site_11['latitude'].notnull()].drop([\"estimated_lat\",\"estimated_long\"], axis=1).sort_values('sub_site')"
   ]
  },
  {
   "cell_type": "markdown",
   "id": "95116ab3",
   "metadata": {},
   "source": [
    "### convert to csv files"
   ]
  },
  {
   "cell_type": "markdown",
   "id": "524e2ad3",
   "metadata": {},
   "source": [
    "pd.DataFrame.to_csv(act_site_2, 'act_site2.csv', sep=',', na_rep='.', index=False)"
   ]
  },
  {
   "cell_type": "code",
   "execution_count": 194,
   "id": "50137332",
   "metadata": {},
   "outputs": [
    {
     "name": "stdout",
     "output_type": "stream",
     "text": [
      "/Users/mine/Library/CloudStorage/Box-Box/Desert Dace/my_creations/Coords/Sample_locations_csv\n"
     ]
    }
   ],
   "source": [
    "cd /Users/mine/Library/CloudStorage/Box-Box/Desert Dace/my_creations/Coords/Sample_locations_csv"
   ]
  },
  {
   "cell_type": "code",
   "execution_count": 191,
   "id": "8d81c288",
   "metadata": {},
   "outputs": [],
   "source": [
    "act_all = {                                   # Create list of all actual_value DataFrames\n",
    "    'site7': act_site_11,\n",
    "    'site6': act_site_9,\n",
    "    'site5': act_site_7,\n",
    "    'site4': act_site_5,\n",
    "    'site3': act_site_4,\n",
    "    'site2': act_site_3,\n",
    "    'site1': act_site_2\n",
    " }\n",
    "est_all = {\n",
    "    'site5': est_site_11,\n",
    "    'site4': est_site_8,\n",
    "    'site3': est_site_4,\n",
    "    'site2': est_site_2,\n",
    "    'site1': est_site_1\n",
    "}\n"
   ]
  },
  {
   "cell_type": "code",
   "execution_count": 183,
   "id": "9045a25b",
   "metadata": {},
   "outputs": [],
   "source": [
    "for i in range(1, len(act_all) + 1):          # Write each DataFrame to separate CSV. Rename later in file folder\n",
    "    data_i = act_all['site' + str(i)]\n",
    "    data_i.to_csv('act_site' + str(i) + '.csv')"
   ]
  },
  {
   "cell_type": "code",
   "execution_count": 192,
   "id": "a2ebfffd",
   "metadata": {},
   "outputs": [],
   "source": [
    "for i in range(1, len(est_all) + 1):          # Write each DataFrame to separate CSV. Rename later in file folder\n",
    "    data_i = est_all['site' + str(i)]\n",
    "    data_i.to_csv('est_site' + str(i) + '.csv')"
   ]
  },
  {
   "cell_type": "markdown",
   "id": "f1b28a5d",
   "metadata": {},
   "source": [
    "combine all files in the list\n",
    "* combined_csv = pd.concat([pd.read_csv(f) for f in all_filenames ])\n",
    "\n",
    "export to csv\n",
    "\n",
    "* combined_csv.to_csv( \"combined_csv.csv\", index=False, encoding='utf-8-sig')"
   ]
  }
 ],
 "metadata": {
  "kernelspec": {
   "display_name": "Python 3",
   "language": "python",
   "name": "python3"
  },
  "language_info": {
   "codemirror_mode": {
    "name": "ipython",
    "version": 3
   },
   "file_extension": ".py",
   "mimetype": "text/x-python",
   "name": "python",
   "nbconvert_exporter": "python",
   "pygments_lexer": "ipython3",
   "version": "3.8.8"
  }
 },
 "nbformat": 4,
 "nbformat_minor": 5
}
