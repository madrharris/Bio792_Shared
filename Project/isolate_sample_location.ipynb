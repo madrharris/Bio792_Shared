{
 "cells": [
  {
   "cell_type": "markdown",
   "id": "93ca096d",
   "metadata": {},
   "source": [
    "word barf. python script, take the sample location file, pull out sample lat longs & name/id. For use in arc"
   ]
  },
  {
   "cell_type": "code",
   "execution_count": 2,
   "id": "899d3a8b",
   "metadata": {},
   "outputs": [],
   "source": [
    "import os\n",
    "import numpy as np\n",
    "import pandas as pd"
   ]
  },
  {
   "cell_type": "code",
   "execution_count": 3,
   "id": "5430a05d",
   "metadata": {},
   "outputs": [
    {
     "name": "stdout",
     "output_type": "stream",
     "text": [
      "/Users/mine/Library/CloudStorage/Box-Box/Desert Dace/my_creations\n"
     ]
    }
   ],
   "source": [
    "cd /Users/mine/Library/CloudStorage/Box-Box/Desert Dace/my_creations"
   ]
  },
  {
   "cell_type": "code",
   "execution_count": 4,
   "id": "6000cd50",
   "metadata": {},
   "outputs": [
    {
     "name": "stdout",
     "output_type": "stream",
     "text": [
      "\u001b[34mClimate_data\u001b[m\u001b[m/                         \u001b[34mUSGS_pulled_data\u001b[m\u001b[m/\r\n",
      "\u001b[34mCoords\u001b[m\u001b[m/                               \u001b[34mbox_map\u001b[m\u001b[m/\r\n",
      "DDlocations_ARC.csv                   box_map_2021-22_v18.csv\r\n",
      "DDlocations_estimated.csv             box_map_ERAC_2021-22_V12.xlsx\r\n",
      "ERAC-2021-22-NoEstimatedV17-xlsx.csv  desert_dace_sample_log_V3.xlsx\r\n",
      "ERAC_2021-22_NoEstimatedV16 (1).xlsx  \u001b[34mgenetic_stuff\u001b[m\u001b[m/\r\n",
      "\u001b[34mFieldNotes\u001b[m\u001b[m/                           \u001b[34mimages\u001b[m\u001b[m/\r\n",
      "\u001b[34mGoogleEarth_saves\u001b[m\u001b[m/                    metadata_creations.txt\r\n",
      "README.gif\r\n"
     ]
    }
   ],
   "source": [
    "ls"
   ]
  },
  {
   "cell_type": "code",
   "execution_count": 5,
   "id": "37c7ac57",
   "metadata": {},
   "outputs": [],
   "source": [
    "local1_df = pd.read_csv('ERAC-2021-22-NoEstimatedV17-xlsx.csv')"
   ]
  },
  {
   "cell_type": "code",
   "execution_count": 7,
   "id": "0202453a",
   "metadata": {},
   "outputs": [],
   "source": [
    "local2_df = local1_df[['sample_ID','site_number','latitude','longitude']].copy()"
   ]
  },
  {
   "cell_type": "code",
   "execution_count": 8,
   "id": "801b127e",
   "metadata": {},
   "outputs": [],
   "source": [
    "pd.DataFrame.to_csv(local2_df, 'DDlocations_ARC.csv', sep=',', na_rep='.', index=False)"
   ]
  },
  {
   "cell_type": "markdown",
   "id": "98bfb80e",
   "metadata": {},
   "source": [
    "### NOW: do the same for the other set of locations: estimated (keep them separate)"
   ]
  },
  {
   "cell_type": "code",
   "execution_count": 22,
   "id": "e7551f84",
   "metadata": {},
   "outputs": [],
   "source": [
    "estimate_df = pd.read_csv('box_map_2021-22_v15.csv', usecols=['sample_ID','site_number','estimated_lat','estimated_long'],skip_blank_lines=True)\n"
   ]
  },
  {
   "cell_type": "markdown",
   "id": "440069f8",
   "metadata": {},
   "source": [
    "#### print(series)\n",
    "#### remove_nan = series. dropna()\n",
    "#### print(remove_nan)"
   ]
  },
  {
   "cell_type": "code",
   "execution_count": 23,
   "id": "1b943487",
   "metadata": {},
   "outputs": [
    {
     "name": "stdout",
     "output_type": "stream",
     "text": [
      "    sample_ID site_number  estimated_lat  estimated_long\n",
      "0     ERAC001           3            NaN             NaN\n",
      "1     ERAC002           3            NaN             NaN\n",
      "2     ERAC003           3            NaN             NaN\n",
      "3     ERAC004           3            NaN             NaN\n",
      "4     ERAC005           3            NaN             NaN\n",
      "..        ...         ...            ...             ...\n",
      "329   ERAC329           8      41.331944     -119.197908\n",
      "330   ERAC331           8      41.331944     -119.197908\n",
      "331   ERAC332           8      41.331944     -119.197908\n",
      "332   ERAC333           8      41.331944     -119.197908\n",
      "333   ERAC334           8      41.331944     -119.197908\n",
      "\n",
      "[334 rows x 4 columns]\n"
     ]
    }
   ],
   "source": [
    "print(estimate_df)"
   ]
  },
  {
   "cell_type": "code",
   "execution_count": 24,
   "id": "5d9cfcec",
   "metadata": {},
   "outputs": [],
   "source": [
    "remove_nan_estimate = estimate_df.dropna()"
   ]
  },
  {
   "cell_type": "code",
   "execution_count": 25,
   "id": "e9bb2398",
   "metadata": {},
   "outputs": [
    {
     "name": "stdout",
     "output_type": "stream",
     "text": [
      "    sample_ID site_number  estimated_lat  estimated_long\n",
      "177   ERAC178           1      41.397972     -119.165569\n",
      "178   ERAC179           1      41.397972     -119.165569\n",
      "179   ERAC180           1      41.397972     -119.165569\n",
      "180   ERAC181           1      41.397972     -119.165569\n",
      "181   ERAC182           1      41.397972     -119.165569\n",
      "..        ...         ...            ...             ...\n",
      "329   ERAC329           8      41.331944     -119.197908\n",
      "330   ERAC331           8      41.331944     -119.197908\n",
      "331   ERAC332           8      41.331944     -119.197908\n",
      "332   ERAC333           8      41.331944     -119.197908\n",
      "333   ERAC334           8      41.331944     -119.197908\n",
      "\n",
      "[140 rows x 4 columns]\n"
     ]
    }
   ],
   "source": [
    "print(remove_nan_estimate)"
   ]
  },
  {
   "cell_type": "markdown",
   "id": "6e531c23",
   "metadata": {},
   "source": [
    "### convert to new csv file, then remove copy file"
   ]
  },
  {
   "cell_type": "code",
   "execution_count": 26,
   "id": "644190ba",
   "metadata": {},
   "outputs": [],
   "source": [
    "pd.DataFrame.to_csv(remove_nan_estimate, 'DDlocations_estimated.csv', sep=',', na_rep='.', index=False)"
   ]
  }
 ],
 "metadata": {
  "kernelspec": {
   "display_name": "Python 3",
   "language": "python",
   "name": "python3"
  },
  "language_info": {
   "codemirror_mode": {
    "name": "ipython",
    "version": 3
   },
   "file_extension": ".py",
   "mimetype": "text/x-python",
   "name": "python",
   "nbconvert_exporter": "python",
   "pygments_lexer": "ipython3",
   "version": "3.8.8"
  }
 },
 "nbformat": 4,
 "nbformat_minor": 5
}
